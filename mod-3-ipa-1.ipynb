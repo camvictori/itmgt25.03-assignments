{
 "cells": [
  {
   "cell_type": "code",
   "execution_count": 174,
   "id": "0942c078-b55d-406a-9fa4-8afac8959ab6",
   "metadata": {},
   "outputs": [],
   "source": [
    "'''Module 3: Individual Programming Assignment 1\n",
    "\n",
    "Thinking Like a Programmer\n",
    "\n",
    "This assignment covers your intermediate proficiency with Python.\n",
    "'''\n",
    "\n",
    "def shift_letter(letter, shift):\n",
    "    '''Shift Letter. \n",
    "    5 points.\n",
    "    \n",
    "    Shift a letter right by the given number.\n",
    "    Wrap the letter around if it reaches the end of the alphabet.\n",
    "\n",
    "    Examples:\n",
    "    shift_letter(\"A\", 0) -> \"A\"\n",
    "    shift_letter(\"A\", 2) -> \"C\"\n",
    "    shift_letter(\"Z\", 1) -> \"A\"\n",
    "    shift_letter(\"X\", 5) -> \"C\"\n",
    "    shift_letter(\" \", _) -> \" \"\n",
    "\n",
    "    *Note: the single underscore `_` is used to acknowledge the presence\n",
    "        of a value without caring about its contents.\n",
    "\n",
    "    Parameters\n",
    "    ----------\n",
    "    letter: str\n",
    "        a single uppercase English letter, or a space.\n",
    "    shift: int\n",
    "        the number by which to shift the letter. \n",
    "\n",
    "    Returns\n",
    "    -------\n",
    "    str\n",
    "        the letter, shifted appropriately, if a letter.\n",
    "        a single space if the original letter was a space.\n",
    "    letter = [ 'A', 'B', 'C', 'D', 'E', 'F', 'G', 'H', 'I', 'J', 'K', 'L', 'M', 'N', 'O', 'P', 'Q', 'R', 'S', 'T', 'U', 'V', 'W', 'X', 'Y', 'Z']\n",
    "    ( ord ( letter )) = (64 - ord ( letter ))\n",
    "\n",
    "    '''\n",
    "\n",
    "    # Replace `pass` with your code. \n",
    "    # Stay within the function. Only use the parameters as input. The function should return your answer. \n",
    "    \n",
    "    A = ord(letter)\n",
    "    \n",
    "    if letter == \" \":\n",
    "        return letter\n",
    "    \n",
    "    while (A + shift) > 90:\n",
    "        A -= 26\n",
    "\n",
    "    return str(chr((A) + shift))"
   ]
  },
  {
   "cell_type": "code",
   "execution_count": 183,
   "id": "d7f50805-d1ce-4c7d-80d6-200320d596ec",
   "metadata": {},
   "outputs": [
    {
     "data": {
      "text/plain": [
       "'D'"
      ]
     },
     "execution_count": 183,
     "metadata": {},
     "output_type": "execute_result"
    }
   ],
   "source": [
    "shift_letter('Z', 4)"
   ]
  },
  {
   "cell_type": "code",
   "execution_count": 81,
   "id": "756617f9-2527-47ca-b050-f7e10a5456b2",
   "metadata": {},
   "outputs": [],
   "source": [
    "def caesar_cipher(message, shift):\n",
    "    '''Caesar Cipher. \n",
    "    10 points.\n",
    "    \n",
    "    Apply a shift number to a string of uppercase English letters and spaces.\n",
    "\n",
    "    Parameters\n",
    "    ----------\n",
    "    message: str\n",
    "        a string of uppercase English letters and spaces.\n",
    "    shift: int\n",
    "        the number by which to shift the letters. \n",
    "\n",
    "    Returns\n",
    "    -------\n",
    "    str\n",
    "        the message, shifted appropriately.\n",
    "        x = message\n",
    "    y = shift\n",
    "    z = list(x)\n",
    "    b = len(z)\n",
    "    list_of_lists = [z[i:i+b] for i in range(0, len(z), b)]\n",
    "    A = ord(list_of_lists)\n",
    "    '''\n",
    "    # Replace `pass` with your code. \n",
    "    # Stay within the function. Only use the parameters as input. The function should return your answer.\n",
    "    # upper case = 65-90\n",
    "    \n",
    "    output = \"\"\n",
    "    \n",
    "    for element in list(message):\n",
    "        lettervalue = ord(element)\n",
    "        \n",
    "        if element == \" \":\n",
    "            output += \" \"\n",
    "            \n",
    "        else:\n",
    "            while (lettervalue + shift) > 90:\n",
    "                lettervalue -= 26\n",
    "        \n",
    "            output += str(chr(lettervalue+shift))\n",
    "            \n",
    "    return print(output)"
   ]
  },
  {
   "cell_type": "code",
   "execution_count": 82,
   "id": "c07c9e4a-349b-4091-91eb-b8b203124ef6",
   "metadata": {},
   "outputs": [
    {
     "name": "stdout",
     "output_type": "stream",
     "text": [
      "IFMMP XPSME\n"
     ]
    }
   ],
   "source": [
    "caesar_cipher(\"HELLO WORLD\", 1)"
   ]
  },
  {
   "cell_type": "code",
   "execution_count": null,
   "id": "01cdb80e-1ea8-41c1-95e3-2f40cd7d4835",
   "metadata": {},
   "outputs": [],
   "source": [
    "    alphabet = [ 'A', 'B', 'C', 'D', 'E', 'F', 'G', 'H', 'I', 'J', 'K', 'L', 'M', 'N', 'O', 'P', 'Q', 'R', 'S', 'T', 'U', 'V', 'W', 'X', 'Y', 'Z']\n",
    "  \n",
    "    newtext = []\n",
    "    oldtext = [x]\n",
    "    \n",
    "    for letter in x:\n",
    "        \n",
    "        if letter in alphabet:\n",
    "            order = alphabet.index(letter) #label alphabet from 1-26\n",
    "            newshift = (order + y) % 26 #shift per letter\n",
    "            oldtext.append(y) #oldtext = x,\n",
    "            newletter = alphabet[newshift]\n",
    "            newtext.append(newletter)\n",
    "            \n",
    "    return print(str(''.join(newtext)))"
   ]
  },
  {
   "cell_type": "code",
   "execution_count": 319,
   "id": "232247d5-cd21-4abd-808d-e28370c3aeb5",
   "metadata": {},
   "outputs": [
    {
     "data": {
      "text/plain": [
       "['H', 'E', 'L', 'L', 'O', ' ', 'W', 'O', 'R', 'L', 'D']"
      ]
     },
     "execution_count": 319,
     "metadata": {},
     "output_type": "execute_result"
    }
   ],
   "source": [
    "split(\"HELLO WORLD\")"
   ]
  },
  {
   "cell_type": "code",
   "execution_count": 320,
   "id": "ea57fd56-2653-40a9-9898-3abdd88d7fdb",
   "metadata": {},
   "outputs": [
    {
     "data": {
      "text/plain": [
       "['H', 'E', 'L', 'L', 'O', ' ', 'W', 'O', 'R', 'L', 'D']"
      ]
     },
     "execution_count": 320,
     "metadata": {},
     "output_type": "execute_result"
    }
   ],
   "source": [
    "list(\"HELLO WORLD\")"
   ]
  },
  {
   "cell_type": "code",
   "execution_count": 203,
   "id": "c6f155d0-2518-44af-bff9-f7dcacdf364e",
   "metadata": {},
   "outputs": [
    {
     "data": {
      "text/plain": [
       "['H', 'E', 'L', 'L', 'O', ' ', 'W', 'O', 'R', 'L', 'D']"
      ]
     },
     "execution_count": 203,
     "metadata": {},
     "output_type": "execute_result"
    }
   ],
   "source": []
  },
  {
   "cell_type": "code",
   "execution_count": 49,
   "id": "e28404ca-07f1-4cc7-8ca0-bcbd5e0b4c79",
   "metadata": {},
   "outputs": [],
   "source": [
    "def shift_by_letter(letter, letter_shift):\n",
    "    '''Shift By Letter. \n",
    "    10 points.\n",
    "    \n",
    "    Shift a letter to the right using the number equivalent of another letter.\n",
    "    The shift letter is any letter from A to Z, where A represents 0, B represents 1, \n",
    "        ..., Z represents 25.\n",
    "\n",
    "    Examples:\n",
    "    shift_by_letter(\"A\", \"A\") -> \"A\"\n",
    "    shift_by_letter(\"A\", \"C\") -> \"C\"\n",
    "    shift_by_letter(\"B\", \"K\") -> \"L\"\n",
    "    shift_by_letter(\" \", _) -> \" \"\n",
    "\n",
    "    Parameters\n",
    "    ----------\n",
    "    letter: str\n",
    "        a single uppercase English letter, or a space.\n",
    "    letter_shift: str\n",
    "        a single uppercase English letter.\n",
    "\n",
    "    Returns\n",
    "    -------\n",
    "    str\n",
    "        the letter, shifted appropriately.\n",
    "    '''\n",
    "    # Replace `pass` with your code. \n",
    "    # Stay within the function. Only use the parameters as input. The function should return your answer.\n",
    "        \n",
    "    alphabet = [ 'A', 'B', 'C', 'D', 'E', 'F', 'G', 'H', 'I', 'J', 'K', 'L', 'M', 'N', 'O', 'P', 'Q', 'R', 'S', 'T', 'U', 'V', 'W', 'X', 'Y', 'Z']\n",
    "    \n",
    "    if letter == \" \":\n",
    "        return letter\n",
    "    \n",
    "    else:\n",
    "        index = alphabet.index(letter)\n",
    "        index2 = alphabet.index(letter_shift)\n",
    "        index += index2\n",
    "    \n",
    "    while (index) > 25:\n",
    "        index -= 26\n",
    "        \n",
    "    return alphabet[index]"
   ]
  },
  {
   "cell_type": "code",
   "execution_count": 85,
   "id": "fe5c6dda-3234-48e4-9ede-7c11dd6afc12",
   "metadata": {},
   "outputs": [
    {
     "data": {
      "text/plain": [
       "'M'"
      ]
     },
     "execution_count": 85,
     "metadata": {},
     "output_type": "execute_result"
    }
   ],
   "source": [
    "shift_by_letter('A', 'M')"
   ]
  },
  {
   "cell_type": "code",
   "execution_count": 212,
   "id": "25bc92d2-1aae-451e-a5b0-cd8773cdc06c",
   "metadata": {},
   "outputs": [],
   "source": [
    "def vigenere_cipher(message, key):\n",
    "    '''Vigenere Cipher. \n",
    "    15 points.\n",
    "    \n",
    "    Encrypts a message using a keyphrase instead of a static number.\n",
    "    Every letter in the message is shifted by the number represented by the \n",
    "        respective letter in the key.\n",
    "    Spaces should be ignored.\n",
    "\n",
    "    Example:\n",
    "    vigenere_cipher(\"A C\", \"KEY\") -> \"K A\"\n",
    "\n",
    "    If needed, the keyphrase is extended to match the length of the key.\n",
    "        If the key is \"KEY\" and the message is \"LONGTEXT\",\n",
    "        the key will be extended to be \"KEYKEYKE\".\n",
    "\n",
    "    Parameters\n",
    "    ----------\n",
    "    message: str\n",
    "        a string of uppercase English letters and spaces.\n",
    "    key: str\n",
    "        a string of uppercase English letters. Will never be longer than the message.\n",
    "        Will never contain spaces.y\n",
    "\n",
    "    Returns\n",
    "    -------\n",
    "    str\n",
    "        the message, shifted appropriately.\n",
    "    '''\n",
    "    # Replace `pass` with your code. \n",
    "    # Stay within the function. Only use the parameters as input. The function should return your answer.\n",
    "    \n",
    "    key_length = len(key)\n",
    "    key_value = [ord(i) for i in key]\n",
    "    message_value = [ord(i) for i in message]\n",
    "    output = \"\"\n",
    "    \n",
    "    for x in range(len(message)):\n",
    "        character = message[x]\n",
    "        if character == \" \":\n",
    "            output += \" \"\n",
    "            \n",
    "        else:\n",
    "            shift = (message_value[x] + key_value[x % key_length]) % 26\n",
    "            output += chr(shift + 65)\n",
    "        \n",
    "    return output"
   ]
  },
  {
   "cell_type": "code",
   "execution_count": 214,
   "id": "fe578b3b-f4ef-4a7a-91c6-b58c5b8cef27",
   "metadata": {},
   "outputs": [
    {
     "data": {
      "text/plain": [
       "'RIJVS GSPVH'"
      ]
     },
     "execution_count": 214,
     "metadata": {},
     "output_type": "execute_result"
    }
   ],
   "source": [
    "vigenere_cipher(\"HELLO WORLD\", \"KEY\")"
   ]
  },
  {
   "cell_type": "code",
   "execution_count": 215,
   "id": "4462af3c-9ba0-4997-adda-465eb53630ea",
   "metadata": {},
   "outputs": [],
   "source": [
    "def vigenere_cipher(message, key):\n",
    "\n",
    "    key_length = len(key)\n",
    "    key_value = [ord(i) for i in list(key)]\n",
    "    message_value = [ord(i) for i in list(message)]\n",
    "    output = \"\"\n",
    "    \n",
    "    for x in range(len(message)):\n",
    "        character = message[x]\n",
    "        if character == \" \":\n",
    "            output += \" \"\n",
    "            \n",
    "        else:\n",
    "            shift = (message_value[x] + key_value[x % key_length]) % 26\n",
    "            output += chr(shift + 65)\n",
    "        \n",
    "    return output"
   ]
  },
  {
   "cell_type": "code",
   "execution_count": 138,
   "id": "c94d72a0-1a64-42a6-9342-eb601655f343",
   "metadata": {},
   "outputs": [
    {
     "data": {
      "text/plain": [
       "'AB C'"
      ]
     },
     "execution_count": 138,
     "metadata": {},
     "output_type": "execute_result"
    }
   ],
   "source": [
    "vigenere_cipher(\"AB C\", \"AAA\")"
   ]
  },
  {
   "cell_type": "code",
   "execution_count": 134,
   "id": "a2b4023c-b986-4f99-b124-621cfae6a81e",
   "metadata": {},
   "outputs": [
    {
     "data": {
      "text/plain": [
       "90"
      ]
     },
     "execution_count": 134,
     "metadata": {},
     "output_type": "execute_result"
    }
   ],
   "source": [
    "ord(\"Z\")"
   ]
  },
  {
   "cell_type": "code",
   "execution_count": 389,
   "id": "7fbca2d2-20d0-479a-8302-11ce8cbd4a71",
   "metadata": {},
   "outputs": [],
   "source": [
    "def scytale_cipher(message, shift):\n",
    "    '''Scytale Cipher.\n",
    "    15 points.\n",
    "    \n",
    "    Encrypts a message by simulating a scytale cipher.\n",
    "\n",
    "    A scytale is a cylinder around which you can wrap a long strip of \n",
    "        parchment that contained a string of apparent gibberish. The parchment, \n",
    "        when read using the scytale, would reveal a message due to every nth \n",
    "        letter now appearing next to each other, revealing a proper message.\n",
    "    This encryption method is obsolete and should never be used to encrypt\n",
    "        data in production settings.\n",
    "\n",
    "    You may read more about the method here:\n",
    "        https://en.wikipedia.org/wiki/Scytale\n",
    "\n",
    "    You may follow this algorithm to implement a scytale-style cipher:\n",
    "    1. Take a message to be encoded and a \"shift\" number. \n",
    "        For this example, we will use \"INFORMATION_AGE\" as \n",
    "        the message and 3 as the shift.\n",
    "    2. Check if the length of the message is a multiple of \n",
    "        the shift. If it is not, add additional underscores \n",
    "        to the end of the message until it is. \n",
    "        In this example, \"INFORMATION_AGE\" is already a multiple of 3, \n",
    "        so we will leave it alone.\n",
    "    3. This is the tricky part. Construct the encoded message. \n",
    "        For each index i in the encoded message, use the character at the index\n",
    "        (i // shift) + (len(message) // shift) * (i % shift) of the raw message. \n",
    "        If this number doesn't make sense, you can play around with the cipher at\n",
    "         https://dencode.com/en/cipher/scytale to try to understand it.\n",
    "    4. Return the encoded message. In this case, \n",
    "        the output should be \"IMNNA_FTAOIGROE\".\n",
    "\n",
    "    Example:\n",
    "    scytale_cipher(\"INFORMATION_AGE\", 3) -> \"IMNNA_FTAOIGROE\"\n",
    "    scytale_cipher(\"INFORMATION_AGE\", 4) -> \"IRIANMOGFANEOT__\"\n",
    "    scytale_cipher(\"ALGORITHMS_ARE_IMPORTANT\", 8) -> \"AOTSRIOALRH_EMRNGIMA_PTT\"\n",
    "\n",
    "    Parameters\n",
    "    ----------\n",
    "    message: str\n",
    "        a string of uppercase English letters and underscores (underscores represent spaces)\n",
    "    shift: int\n",
    "        a positive int that does not exceed the length of message\n",
    "\n",
    "    Returns\n",
    "    -------\n",
    "    str\n",
    "        the encoded message\n",
    "    '''\n",
    "    # Replace `pass` with your code. \n",
    "    # Stay within the function. Only use the parameters as input. The function should return your answer.\n",
    "    \n",
    "    output = \"\"\n",
    "    \n",
    "    while(True):\n",
    "        if len(message) % shift != 0:\n",
    "            message += \"_\"\n",
    "            \n",
    "        else:        \n",
    "            for i,character in enumerate(message):\n",
    "                cipher = (i // shift) + (len(message) // shift) * (i % shift)\n",
    "                i = cipher\n",
    "                character = message[i]\n",
    "                output += character\n",
    "            \n",
    "            return output"
   ]
  },
  {
   "cell_type": "code",
   "execution_count": 390,
   "id": "94a8eeb9-6d86-49f0-b9a8-9d8170efb703",
   "metadata": {},
   "outputs": [
    {
     "data": {
      "text/plain": [
       "'IMNNA_FTAOIGROE'"
      ]
     },
     "execution_count": 390,
     "metadata": {},
     "output_type": "execute_result"
    }
   ],
   "source": [
    "scytale_cipher(\"INFORMATION_AGE\", 3)"
   ]
  },
  {
   "cell_type": "code",
   "execution_count": null,
   "id": "77f2908a-653d-4bfc-942e-2448ac4931fc",
   "metadata": {},
   "outputs": [],
   "source": []
  },
  {
   "cell_type": "code",
   "execution_count": 336,
   "id": "fc643c33-7942-47ed-b89d-45e3e7c76047",
   "metadata": {},
   "outputs": [],
   "source": [
    "def problem_2(message, shift):\n",
    "    output = \"\"\n",
    "    \n",
    "    if len(message) % shift != 0:\n",
    "            message += \"_\"\n",
    "    else:        \n",
    "        for i, character in enumerate(message):\n",
    "            cipher = (i // shift) + (len(message) // shift) * (i % shift)\n",
    "            i = cipher\n",
    "            character = message[i]\n",
    "            output += character\n",
    "            \n",
    "        return output"
   ]
  },
  {
   "cell_type": "code",
   "execution_count": 337,
   "id": "d2f69f5a-48e7-4b44-a93c-47d80e46f277",
   "metadata": {},
   "outputs": [],
   "source": [
    "problem_2(\"INFORMATION_AGE\", 9)"
   ]
  },
  {
   "cell_type": "code",
   "execution_count": 285,
   "id": "1b6f4ba2-08b5-4d99-9881-41b559de6046",
   "metadata": {},
   "outputs": [],
   "source": [
    "def problem_2(message, shift):\n",
    "    while len(message)%shift != 0:\n",
    "        message += \"_\"\n",
    "        if len(message)%shift == 0:\n",
    "            break\n",
    "        \n",
    "        for i in range(len(message)):\n",
    "            cipher = message[((i // shift) + (len(message) // shift) * (i % shift))]\n",
    "            for j in cipher:\n",
    "                print(j, end=\"\")"
   ]
  },
  {
   "cell_type": "code",
   "execution_count": 286,
   "id": "78c11ef3-0c40-4a2f-bede-54edae3f67ab",
   "metadata": {},
   "outputs": [],
   "source": [
    "problem_2(\"INFORMATION_AGE\", 3)"
   ]
  },
  {
   "cell_type": "code",
   "execution_count": 60,
   "id": "d35339d7-04d5-4e29-9129-1173314e87af",
   "metadata": {},
   "outputs": [],
   "source": []
  },
  {
   "cell_type": "code",
   "execution_count": 375,
   "id": "124391d2-7687-4e8c-b555-cf9d93e99202",
   "metadata": {},
   "outputs": [],
   "source": [
    "def scytale_decipher(message, shift):\n",
    "    '''Scytale De-cipher.\n",
    "    15 points.\n",
    "\n",
    "    Decrypts a message that was originally encrypted with the `scytale_cipher` function above.\n",
    "\n",
    "    Example:\n",
    "    scytale_decipher(\"IMNNA_FTAOIGROE\", 3) -> \"INFORMATION_AGE\"\n",
    "    scytale_decipher(\"AOTSRIOALRH_EMRNGIMA_PTT\", 8) -> \"ALGORITHMS_ARE_IMPORTANT\"\n",
    "    scytale_decipher(\"IRIANMOGFANEOT__\", 4) -> \"INFORMATION_AGE_\"\n",
    "\n",
    "    There is no further brief for this number.\n",
    "    \n",
    "    Parameters\n",
    "    ----------\n",
    "    message: str\n",
    "        a string of uppercase English letters and underscores (underscores represent spaces)\n",
    "    shift: int\n",
    "        a positive int that does not exceed the length of message\n",
    "\n",
    "    Returns\n",
    "    -------\n",
    "    str\n",
    "        the decoded message\n",
    "    '''\n",
    "    # Replace `pass` with your code. \n",
    "    # Stay within the function. Only use the parameters as input. The function should return your answer.\n",
    "    output = \"\"\n",
    "    \n",
    "    while(len(output)<len(message)):\n",
    "        output += \"_\"\n",
    "    \n",
    "    for i,m in enumerate(message):\n",
    "        new = (i // shift) + (len(message) // shift) * (i % shift)\n",
    "        for j,n in enumerate(output):\n",
    "            output = output[:new] + m + output[new+1:]\n",
    "    return output"
   ]
  },
  {
   "cell_type": "code",
   "execution_count": 376,
   "id": "2eb121c4-d3a0-4d51-9fea-d60efeb3b221",
   "metadata": {},
   "outputs": [
    {
     "data": {
      "text/plain": [
       "'ALGORITHMS_ARE_IMPORTANT'"
      ]
     },
     "execution_count": 376,
     "metadata": {},
     "output_type": "execute_result"
    }
   ],
   "source": [
    "scytale_decipher(\"AOTSRIOALRH_EMRNGIMA_PTT\", 8)"
   ]
  },
  {
   "cell_type": "code",
   "execution_count": null,
   "id": "c567a480-f445-4d8c-bd7f-bc5a24ee6340",
   "metadata": {},
   "outputs": [],
   "source": []
  }
 ],
 "metadata": {
  "kernelspec": {
   "display_name": "Python 3 (ipykernel)",
   "language": "python",
   "name": "python3"
  },
  "language_info": {
   "codemirror_mode": {
    "name": "ipython",
    "version": 3
   },
   "file_extension": ".py",
   "mimetype": "text/x-python",
   "name": "python",
   "nbconvert_exporter": "python",
   "pygments_lexer": "ipython3",
   "version": "3.9.12"
  }
 },
 "nbformat": 4,
 "nbformat_minor": 5
}
