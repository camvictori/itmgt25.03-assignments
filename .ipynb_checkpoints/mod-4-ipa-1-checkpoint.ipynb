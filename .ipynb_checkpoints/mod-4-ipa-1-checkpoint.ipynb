{
 "cells": [
  {
   "cell_type": "code",
   "execution_count": 30,
   "id": "f6dced8b-25f9-4c7b-93c1-d4f9bf829b5d",
   "metadata": {},
   "outputs": [],
   "source": [
    "'''Module 4: Individual Programming Assignment 1\n",
    "\n",
    "Parsing Data\n",
    "\n",
    "This assignment covers your ability to manipulate data in Python.\n",
    "'''\n",
    "social_graph = {\n",
    "                    \"@bongolpoc\":{\"first_name\":\"Joselito\",\n",
    "                                  \"last_name\":\"Olpoc\",\n",
    "                                  \"following\":[\n",
    "                                  ]\n",
    "                    },\n",
    "                    \"@joaquin\":  {\"first_name\":\"Joaquin\",\n",
    "                                  \"last_name\":\"Gonzales\",\n",
    "                                  \"following\":[\n",
    "                                  \"@chums\",\"@jobenilagan\"\n",
    "                                  ]\n",
    "                    },\n",
    "                    \"@chums\" : {\"first_name\":\"Matthew\",\n",
    "                                \"last_name\":\"Uy\",\n",
    "                                \"following\":[\n",
    "                                \"@bongolpoc\",\"@miketan\",\"@rudyang\",\"@joeilagan\"\n",
    "                                ]\n",
    "                    },\n",
    "                    \"@jobenilagan\":{\"first_name\":\"Joben\",\n",
    "                                   \"last_name\":\"Ilagan\",\n",
    "                                   \"following\":[\n",
    "                                   \"@eeebeee\",\"@joeilagan\",\"@chums\",\"@joaquin\"\n",
    "                                   ]\n",
    "                    },\n",
    "                    \"@joeilagan\":{\"first_name\":\"Joe\",\n",
    "                                  \"last_name\":\"Ilagan\",\n",
    "                                  \"following\":[\n",
    "                                  \"@eeebeee\",\"@jobenilagan\",\"@chums\"\n",
    "                                  ]\n",
    "                    },\n",
    "                    \"@eeebeee\":  {\"first_name\":\"Elizabeth\",\n",
    "                                  \"last_name\":\"Ilagan\",\n",
    "                                  \"following\":[\n",
    "                                  \"@jobenilagan\",\"@joeilagan\"\n",
    "                                  ]\n",
    "                    },\n",
    "                }\n",
    "\n",
    "def relationship_status(from_member, to_member, social_graph):\n",
    "    '''Relationship Status.\n",
    "    20 points.\n",
    "\n",
    "    Let us pretend that you are building a new app.\n",
    "    Your app supports social media functionality, which means that users can have\n",
    "    relationships with other users.\n",
    "\n",
    "    There are two guidelines for describing relationships on this social media app:\n",
    "    1. Any user can follow any other user.\n",
    "    2. If two users follow each other, they are considered friends.\n",
    "\n",
    "    This function describes the relationship that two users have with each other.\n",
    "\n",
    "    Please see \"assignment-4-sample-data.py\" for sample data. The social graph\n",
    "    will adhere to the same pattern.\n",
    "\n",
    "    Parameters\n",
    "    ----------\n",
    "    from_member: str\n",
    "        the subject member\n",
    "    to_member: str\n",
    "        the object member\n",
    "    social_graph: dict\n",
    "        the relationship data    \n",
    "\n",
    "    Returns\n",
    "    -------\n",
    "    str\n",
    "        \"follower\" if fromMember follows toMember,\n",
    "        \"followed by\" if fromMember is followed by toMember,\n",
    "        \"friends\" if fromMember and toMember follow each other,\n",
    "        \"no relationship\" if neither fromMember nor toMember follow each other.\n",
    "        \n",
    "        \n",
    "    '''\n",
    "    \n",
    "    # Replace `pass` with your code. \n",
    "    # Stay within the function. Only use the parameters as input. The function should return your answer.\n",
    "    from_member_following = social_graph[from_member][\"following\"]\n",
    "    to_member_following = social_graph[to_member][\"following\"]\n",
    "\n",
    "    for i in from_member_following:\n",
    "            if i == to_member:\n",
    "                for v in to_member_following:\n",
    "                        if v == from_member:\n",
    "                            return \"friends\"\n",
    "                        else:\n",
    "                            continue\n",
    "                return \"follower\"\n",
    "            else:\n",
    "                break\n",
    "            \n",
    "    for v in to_member_following:\n",
    "            if v == from_member:\n",
    "                return \"followed by\"\n",
    "            else:\n",
    "                return \"no relationship\""
   ]
  },
  {
   "cell_type": "code",
   "execution_count": 31,
   "id": "dc8a4e5f-606e-4991-9c78-00ce0acc6314",
   "metadata": {},
   "outputs": [
    {
     "data": {
      "text/plain": [
       "'followed by'"
      ]
     },
     "execution_count": 31,
     "metadata": {},
     "output_type": "execute_result"
    }
   ],
   "source": [
    "relationship_status(\"@eeebeee\", \"@joeilagan\", social_graph)"
   ]
  },
  {
   "cell_type": "code",
   "execution_count": 22,
   "id": "e0fc0ae9-3e6f-46f4-914b-53a0b47bd7ba",
   "metadata": {},
   "outputs": [],
   "source": [
    "following = [\"@eeebeee\",\"@jobenilagan\",\"@chums\"]"
   ]
  },
  {
   "cell_type": "code",
   "execution_count": 2,
   "id": "f43cddf5-fdf9-44b1-9dab-e841a026caad",
   "metadata": {},
   "outputs": [],
   "source": [
    "board1 = [\n",
    "            ['X','X','O'],\n",
    "            ['O','X','O'],\n",
    "            ['O','','X'],\n",
    "            ]\n",
    "\n",
    "board2 = [\n",
    "            ['X','X','O'],\n",
    "            ['O','X','O'],\n",
    "            ['','O','X'],\n",
    "            ]\n",
    "\n",
    "board3 = [\n",
    "            ['O','X','O'],\n",
    "            ['','O','X'],\n",
    "            ['X','X','O'],\n",
    "            ]\n",
    "\n",
    "board4 = [\n",
    "            ['X','X','X'],\n",
    "            ['O','X','O'],\n",
    "            ['O','','O'],\n",
    "            ]\n",
    "\n",
    "board5 = [\n",
    "            ['X','X','O'],\n",
    "            ['O','X','O'],\n",
    "            ['X','','O'],\n",
    "            ]\n",
    "\n",
    "board6 = [\n",
    "            ['X','X','O'],\n",
    "            ['O','X','O'],\n",
    "            ['X','',''],\n",
    "            ]\n",
    "    \n",
    "board7 = [\n",
    "            ['X','X','X','X'],\n",
    "            ['O','X','O','O'],\n",
    "            ['X','O','','X'],\n",
    "            ['O','X','O','X'],\n",
    "            ]\n",
    "\n",
    "board8 = [\n",
    "            ['X','X','X','X','X'],\n",
    "            ['O','X','O','O','O'],\n",
    "            ['X','O','X','X','X'],\n",
    "            ['O','X','O','X','O'],\n",
    "            ['O','X','O','O','X']\n",
    "            ]\n",
    "\n",
    "board9 = [\n",
    "            ['X','X','X','X','X','X'],\n",
    "            ['O','X','O','O','O','X'],\n",
    "            ['X','O','X','X','X','O'],\n",
    "            ['O','X','O','X','O','O'],\n",
    "            ['O','X','O','O','X','X']\n",
    "            ]\n",
    "\n",
    "def tic_tac_toe(board):\n",
    "    '''Tic Tac Toe. \n",
    "    25 points.\n",
    "\n",
    "    Tic Tac Toe is a common paper-and-pencil game. \n",
    "    Players must attempt to successfully draw a straight line of their symbol across a grid.\n",
    "    The player that does this first is considered the winner.\n",
    "\n",
    "    This function evaluates a tic tac toe board and returns the winner.\n",
    "\n",
    "    Please see \"assignment-4-sample-data.py\" for sample data. The board will adhere\n",
    "    to the same pattern. The board may by 3x3, 4x4, 5x5, or 6x6. The board will never\n",
    "    have more than one winner. The board will only ever have 2 unique symbols at the same time.\n",
    "\n",
    "    Parameters\n",
    "    ----------\n",
    "    board: list\n",
    "        the representation of the tic-tac-toe board as a square list of lists\n",
    "\n",
    "    Returns\n",
    "    -------\n",
    "    str\n",
    "        the symbol of the winner or \"NO WINNER\" if there is no winner\n",
    "    '''\n",
    "    # Replace `pass` with your code. \n",
    "    # Stay within the function. Only use the parameters as input. The function should return your answer.\n",
    "    \n",
    "    horizontal_check = [x for x in board]\n",
    "    vertical_check = [x for x in zip(*(board))]\n",
    "    updown_diagonal_check = [board[i][i] for i in range(len(board))]\n",
    "    downup_diagonal_check = [board[3-1-i][i] for i in range(len(board))]\n",
    "    \n",
    "    for j,m in enumerate(horizontal_check):\n",
    "        if j < len(horizontal_check):\n",
    "            if all([s==\"X\" for s in m]):\n",
    "                return \"X\"\n",
    "            elif all([s==\"O\" for s in m]):\n",
    "                return \"O\"\n",
    "            else:\n",
    "                continue\n",
    "        else:\n",
    "            break\n",
    "                      \n",
    "    for l,n in enumerate(vertical_check):\n",
    "        if l < len(vertical_check):\n",
    "            if all([s==\"X\" for s in n]):\n",
    "                return \"X\"\n",
    "            elif all([s==\"O\" for s in n]):\n",
    "                return \"O\"\n",
    "            else:\n",
    "                continue\n",
    "        else:\n",
    "            break\n",
    "                      \n",
    "    if all([s==\"X\" for s in updown_diagonal_check]):\n",
    "          return \"X\"\n",
    "    elif all([s==\"O\" for s in updown_diagonal_check]):\n",
    "          return \"O\"\n",
    "    elif all([s==\"X\" for s in downup_diagonal_check]):\n",
    "          return \"X\"\n",
    "    elif all([s==\"O\" for s in downup_diagonal_check]):\n",
    "          return \"O\"\n",
    "    else:\n",
    "          return \"NO WINNER\""
   ]
  },
  {
   "cell_type": "code",
   "execution_count": 3,
   "id": "eac99c21-dbe0-40d5-a146-ec830963751a",
   "metadata": {},
   "outputs": [
    {
     "data": {
      "text/plain": [
       "'X'"
      ]
     },
     "execution_count": 3,
     "metadata": {},
     "output_type": "execute_result"
    }
   ],
   "source": [
    "tic_tac_toe(board9)"
   ]
  },
  {
   "cell_type": "code",
   "execution_count": 47,
   "id": "9445acb4-0fba-45ec-b310-e0359f55dfd2",
   "metadata": {},
   "outputs": [
    {
     "data": {
      "text/plain": [
       "[('X', 'O', 'O'), ('X', 'X', ''), ('O', 'O', 'X')]"
      ]
     },
     "execution_count": 47,
     "metadata": {},
     "output_type": "execute_result"
    }
   ],
   "source": [
    "list(zip(*(board1)))"
   ]
  },
  {
   "cell_type": "code",
   "execution_count": 42,
   "id": "b39e54ce-6fb0-4c5d-936f-c76cda48babd",
   "metadata": {},
   "outputs": [],
   "source": [
    "board1 = [\n",
    "            ['X','X','O'],\n",
    "            ['O','X','O'],\n",
    "            ['O','','X'],\n",
    "            ]"
   ]
  },
  {
   "cell_type": "code",
   "execution_count": 53,
   "id": "521b17e1-268e-48f1-a423-62e479924109",
   "metadata": {},
   "outputs": [
    {
     "data": {
      "text/plain": [
       "[0, 1, 2]"
      ]
     },
     "execution_count": 53,
     "metadata": {},
     "output_type": "execute_result"
    }
   ],
   "source": [
    "list(range(len(board1)))"
   ]
  },
  {
   "cell_type": "code",
   "execution_count": 52,
   "id": "bf680672-32cd-4468-a39a-1790d659b8a0",
   "metadata": {},
   "outputs": [
    {
     "data": {
      "text/plain": [
       "[(0, ['X', 'X', 'O']), (1, ['O', 'X', 'O']), (2, ['O', '', 'X'])]"
      ]
     },
     "execution_count": 52,
     "metadata": {},
     "output_type": "execute_result"
    }
   ],
   "source": [
    "list(enumerate(board1))"
   ]
  },
  {
   "cell_type": "code",
   "execution_count": 6,
   "id": "2514798d-a892-4e77-a3b6-41edac467a4c",
   "metadata": {},
   "outputs": [],
   "source": [
    "route_map = {\n",
    "     (\"upd\",\"admu\"):{\n",
    "         \"travel_time_mins\":10\n",
    "     },\n",
    "     (\"admu\",\"dlsu\"):{\n",
    "         \"travel_time_mins\":35\n",
    "     },\n",
    "     (\"dlsu\",\"upd\"):{\n",
    "         \"travel_time_mins\":55\n",
    "     }\n",
    "}\n",
    "\n",
    "def eta(first_stop, second_stop, route_map):\n",
    "    \n",
    "    '''ETA. \n",
    "    25 points.\n",
    "\n",
    "    A shuttle van service is tasked to travel along a predefined circlar route.\n",
    "    This route is divided into several legs between stops.\n",
    "    The route is one-way only, and it is fully connected to itself.\n",
    "\n",
    "    This function returns how long it will take the shuttle to arrive at a stop\n",
    "    after leaving another stop.\n",
    "\n",
    "    Please see \"mod-4-ipa-1-sample-data.py\" for sample data. The route map will\n",
    "    adhere to the same pattern. The route map may contain more legs and more stops,\n",
    "    but it will always be one-way and fully enclosed.\n",
    "\n",
    "    Parameters\n",
    "    ----------\n",
    "    first_stop: str\n",
    "        the stop that the shuttle will leave\n",
    "    second_stop: str\n",
    "        the stop that the shuttle will arrive at\n",
    "    route_map: dict\n",
    "        the data describing the routes\n",
    "\n",
    "    Returns\n",
    "    -------\n",
    "    int\n",
    "        the time it will take the shuttle to travel from first_stop to second_stop\n",
    "    '''\n",
    "    # Replace `pass` with your code. \n",
    "    # Stay within the function. Only use the parameters as input. The function should return your answer.\n",
    "    routes = route_map.keys()\n",
    "    a = [x for x in routes]\n",
    "    b = [y for y,z in a]\n",
    "    c = [z for y,z in a]\n",
    "    recurring_mins = 0\n",
    "    for i in b:\n",
    "        p = b.index(i)\n",
    "        if i == first_stop:\n",
    "            while(True):\n",
    "                if c[p] != second_stop:\n",
    "                    stop_mins = int(route_map[b[p],c[p]]['travel_time_mins'])\n",
    "                    recurring_mins += stop_mins\n",
    "                    if p == len(b) - 1:\n",
    "                        p = 0\n",
    "                    elif p < len(b):\n",
    "                        p += 1\n",
    "                    continue\n",
    "                elif c[p] == second_stop:\n",
    "                    first_stop_mins = int(route_map[b[p],c[p]]['travel_time_mins'])\n",
    "                    return recurring_mins + first_stop_mins"
   ]
  },
  {
   "cell_type": "code",
   "execution_count": 7,
   "id": "72ff2d92-76df-4e0b-a718-9532ad6b05c3",
   "metadata": {},
   "outputs": [
    {
     "data": {
      "text/plain": [
       "35"
      ]
     },
     "execution_count": 7,
     "metadata": {},
     "output_type": "execute_result"
    }
   ],
   "source": [
    "eta(\"admu\",\"dlsu\",route_map)"
   ]
  },
  {
   "cell_type": "code",
   "execution_count": null,
   "id": "88934493-faeb-4702-b65c-f1ef0c8f9782",
   "metadata": {},
   "outputs": [],
   "source": [
    "def eta(first_stop, second_stop, route_map):\n",
    "\n",
    "    route_map = {\n",
    "     (\"upd\",\"admu\"):{\n",
    "         \"travel_time_mins\":10\n",
    "     },\n",
    "     (\"admu\",\"dlsu\"):{\n",
    "         \"travel_time_mins\":35\n",
    "     },\n",
    "     (\"dlsu\",\"upd\"):{\n",
    "         \"travel_time_mins\":55\n",
    "     }\n",
    "}\n",
    "    \n",
    "a = [x for x,y in enumerate(route_map)] # order of route (0-2)\n",
    "b = [y for x,y in enumerate(route_map)] # list of route\n",
    "c = [m for m,n in b]\n",
    "d = [n for m,n in b]\n",
    "    \n",
    "for i in c:\n",
    "        p = c.index(i)\n",
    "        if i == first_stop:\n",
    "            while(True):\n",
    "                if d[p] != second_stop:\n",
    "                    stop_mins = int(route_map[c[p],d[p]]['travel_time_mins'])\n",
    "                    start_time += stop_mins\n",
    "                    if p == len(c) - 1:\n",
    "                        p = 0\n",
    "                    elif p < len(c):\n",
    "                        p += 1\n",
    "                    continue\n",
    "                elif d[p] == second_stop:\n",
    "                    first_stop_mins = int(route_map[c[p],d[p]]['travel_time_mins'])\n",
    "                    total_time = start_time + first_stop_mins\n",
    "\n",
    "return print(total_time)\n",
    "          eta(\"dlsu\",\"admu\",route_map)  "
   ]
  },
  {
   "cell_type": "code",
   "execution_count": 64,
   "id": "3692488b-53b0-447b-8534-14b39bfdbd84",
   "metadata": {},
   "outputs": [
    {
     "ename": "SyntaxError",
     "evalue": "'return' outside function (332627113.py, line 16)",
     "output_type": "error",
     "traceback": [
      "\u001b[0;36m  Input \u001b[0;32mIn [64]\u001b[0;36m\u001b[0m\n\u001b[0;31m    return total_time\u001b[0m\n\u001b[0m    ^\u001b[0m\n\u001b[0;31mSyntaxError\u001b[0m\u001b[0;31m:\u001b[0m 'return' outside function\n"
     ]
    }
   ],
   "source": [
    "for i in c:\n",
    "        p = c.index(i)\n",
    "        if i == first_stop:\n",
    "            while(True):\n",
    "                if d[p] != second_stop:\n",
    "                    stop_mins = int(route_map[c[p],d[p]]['travel_time_mins'])\n",
    "                    start_time += stop_mins\n",
    "                    if p == len(c) - 1:\n",
    "                        p = 0\n",
    "                    elif p < len(c):\n",
    "                        p += 1\n",
    "                    continue\n",
    "                elif d[p] == second_stop:\n",
    "                    first_stop_mins = int(route_map[c[p],d[p]]['travel_time_mins'])\n",
    "                    total_time = start_time + first_stop_mins\n",
    "                    return total_time"
   ]
  },
  {
   "cell_type": "code",
   "execution_count": null,
   "id": "f8a20a36-45d8-4b68-a33b-bd6661eba7c2",
   "metadata": {},
   "outputs": [],
   "source": [
    "route_map = {\n",
    "     (\"upd\",\"admu\"):{\n",
    "         \"travel_time_mins\":10\n",
    "     },\n",
    "     (\"admu\",\"dlsu\"):{\n",
    "         \"travel_time_mins\":35\n",
    "     },\n",
    "     (\"dlsu\",\"upd\"):{\n",
    "         \"travel_time_mins\":55\n",
    "     }\n",
    "}\n",
    "\n",
    "def eta(first_stop, second_stop, route_map):\n",
    "\n",
    "    routes = route_map.keys()\n",
    "    a = [x for x in routes]\n",
    "    b = [m for m,n in a]\n",
    "    c = [n for m,n in a]\n",
    "\n",
    "    for i in b:\n",
    "        p = b.index(i)\n",
    "        if i == first_stop:\n",
    "            while(True):\n",
    "                if b[p] != second_stop:\n",
    "                    second_stop_mins = int(route_map[b[p],c[p]]['travel_time_mins'])\n",
    "                    if p == len(b) - 1:\n",
    "                        p = 0\n",
    "                    elif p < len(b):\n",
    "                        p += 1\n",
    "                    continue\n",
    "                elif c[p] == second_stop:\n",
    "                    first_stop_mins = int(route_map[c[p],d[p]]['travel_time_mins'])\n",
    "                    return second_stop_mins + first_stop_mins    \n",
    "        \n",
    "print(list(routes))\n",
    "print(a)\n",
    "print(b)\n",
    "print(c)\n",
    "print(p)\n",
    "print(c[p])\n",
    "print(len(b))"
   ]
  },
  {
   "cell_type": "code",
   "execution_count": 14,
   "id": "9e0b042e-7059-43e8-b187-7cf4ce477af8",
   "metadata": {},
   "outputs": [
    {
     "data": {
      "text/plain": [
       "45"
      ]
     },
     "execution_count": 14,
     "metadata": {},
     "output_type": "execute_result"
    }
   ],
   "source": [
    "legs = {\n",
    "     (\"upd\",\"admu\"):{\n",
    "         \"travel_time_mins\":10\n",
    "     },\n",
    "     (\"admu\",\"dlsu\"):{\n",
    "         \"travel_time_mins\":35\n",
    "     },\n",
    "     (\"dlsu\",\"upd\"):{\n",
    "         \"travel_time_mins\":55\n",
    "     }\n",
    "}\n",
    "\n",
    "def eta(legs,source,destination):\n",
    "    destination_routes = legs.keys()\n",
    "    a = [x for x in destination_routes]\n",
    "    b = [y for y,z in a]\n",
    "    c = [z for y,z in a]\n",
    "    for i in b:\n",
    "        p = b.index(i)\n",
    "        if i == source:\n",
    "            while(True):\n",
    "                if c[p] != destination:\n",
    "                    stop_mins = int(legs[b[p],c[p]]['travel_time_mins'])\n",
    "                    if p == len(b) - 1:\n",
    "                        p = 0\n",
    "                    elif p < len(b):\n",
    "                        p += 1\n",
    "                    continue\n",
    "                elif c[p] == destination:\n",
    "                    first_stop_mins = int(legs[b[p],c[p]]['travel_time_mins'])\n",
    "                    return stop_mins + first_stop_mins\n",
    "                \n",
    "eta(legs,\"upd\",\"dlsu\")    "
   ]
  },
  {
   "cell_type": "code",
   "execution_count": null,
   "id": "c46209fa-db95-4113-aa28-f7e31c6c4101",
   "metadata": {},
   "outputs": [],
   "source": []
  },
  {
   "cell_type": "code",
   "execution_count": null,
   "id": "0933c03a-4269-4f05-918c-55ac27296d74",
   "metadata": {},
   "outputs": [],
   "source": []
  },
  {
   "cell_type": "code",
   "execution_count": null,
   "id": "ba42bbef-a3d5-4849-bb65-22fe584ae62b",
   "metadata": {},
   "outputs": [],
   "source": []
  }
 ],
 "metadata": {
  "kernelspec": {
   "display_name": "Python 3 (ipykernel)",
   "language": "python",
   "name": "python3"
  },
  "language_info": {
   "codemirror_mode": {
    "name": "ipython",
    "version": 3
   },
   "file_extension": ".py",
   "mimetype": "text/x-python",
   "name": "python",
   "nbconvert_exporter": "python",
   "pygments_lexer": "ipython3",
   "version": "3.9.12"
  }
 },
 "nbformat": 4,
 "nbformat_minor": 5
}
