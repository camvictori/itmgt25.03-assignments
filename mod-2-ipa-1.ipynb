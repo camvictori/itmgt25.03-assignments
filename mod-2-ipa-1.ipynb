{
 "cells": [
  {
   "cell_type": "code",
   "execution_count": 3,
   "id": "9adb4729-8213-4ec8-b578-e9d7c5de82f6",
   "metadata": {},
   "outputs": [],
   "source": [
    "'''Module 2: Individual Programming Assignment 1\n",
    "\n",
    "Useful Business Calculations\n",
    "\n",
    "This assignment covers your basic proficiency with Python.\n",
    "'''\n",
    "\n",
    "def savings(gross_pay, tax_rate, expenses):\n",
    "    '''savings.\n",
    "    5 points.\n",
    "\n",
    "    This function calculates the money remaining\n",
    "        for an employee after taxes and expenses.\n",
    "    \n",
    "    To get the take-home pay of an employee, we will\n",
    "        follow the following process:\n",
    "        1. Apply the tax rate to the gross pay of the employee; round down\n",
    "        2. Subtract the expenses from the after-tax pay of the employee\n",
    "\n",
    "    Parameters\n",
    "    ----------\n",
    "    gross_pay: int\n",
    "        the gross pay of an employee for a certain time period, expressed in centavos\n",
    "    tax_rate: float\n",
    "        the tax rate for a certain time period, expressed as a number between 0 and 1 (e.g., 0.12)\n",
    "    expenses: int\n",
    "        the expenses of an employee for a certain time period, expressed in centavos\n",
    "\n",
    "    Returns\n",
    "    -------\n",
    "    int\n",
    "        the number of centavos remaining from an employee's pay after taxes and expenses\n",
    "    '''\n",
    "    # Replace `pass` with your code.\n",
    "    # Stay within the function. Only use the parameters as input. The function should return your answer.\n",
    "    \n",
    "    x = gross_pay\n",
    "    y = tax_rate\n",
    "    z = expenses\n",
    "    import math\n",
    "    return (math.floor(x - ( y * x )) - z)"
   ]
  },
  {
   "cell_type": "code",
   "execution_count": 4,
   "id": "d9036d4c-4624-43b3-b043-aca94476d5b3",
   "metadata": {},
   "outputs": [
    {
     "data": {
      "text/plain": [
       "400"
      ]
     },
     "execution_count": 4,
     "metadata": {},
     "output_type": "execute_result"
    }
   ],
   "source": [
    "savings(1000.60, .10, 500)"
   ]
  },
  {
   "cell_type": "code",
   "execution_count": 8,
   "id": "7a18dcbb-8eff-4503-a7b7-8370e500caf6",
   "metadata": {},
   "outputs": [],
   "source": [
    "def material_waste(total_material, material_units, num_jobs, job_consumption):\n",
    "    '''Material Waste.\n",
    "    5 points.\n",
    "\n",
    "    This function calculates how much material input will be wasted\n",
    "        after running a certain number of jobs that consume\n",
    "        a set amount of material.\n",
    "\n",
    "    To get the waste of a set of jobs:\n",
    "        1. Multiply the number of jobs by the material consumption per job.\n",
    "        2. Subtract the total material consumed from the total material available.\n",
    "\n",
    "    The users of this function also want you to format the output as a string, annotated with the\n",
    "        units in which the material is expressed. Do not add a space between the number and the unit.\n",
    "\n",
    "    Parameters\n",
    "    ----------\n",
    "    total_material: int\n",
    "        the total material available\n",
    "    material_units: str\n",
    "        the units used to express a quantity of the material (e.g., \"kg\", \"L\", etc.)\n",
    "    num_jobs: int\n",
    "        the number of jobs to run\n",
    "    job_consumption: int\n",
    "        the amount of material consumed per job\n",
    "\n",
    "    Returns\n",
    "    -------\n",
    "    str\n",
    "        the amount of remaining material expressed with its unit (e.g., \"10kg\").\n",
    "    '''\n",
    "    # Replace `pass` with your code. \n",
    "    # Stay within the function. Only use the parameters as input. The function should return your answer.\n",
    "\n",
    "    w = total_material\n",
    "    x = material_units\n",
    "    y = num_jobs\n",
    "    z = job_consumption\n",
    "    return str(w - (y * z)) + x"
   ]
  },
  {
   "cell_type": "code",
   "execution_count": 9,
   "id": "e69a5c08-8278-493a-85ce-299383309b02",
   "metadata": {},
   "outputs": [
    {
     "data": {
      "text/plain": [
       "'9500kg'"
      ]
     },
     "execution_count": 9,
     "metadata": {},
     "output_type": "execute_result"
    }
   ],
   "source": [
    "material_waste(10000, \"kg\", 5, 100)"
   ]
  },
  {
   "cell_type": "code",
   "execution_count": 13,
   "id": "c1f655a3-3c0d-4b5c-b530-cc512d2337ff",
   "metadata": {},
   "outputs": [],
   "source": [
    "def interest(principal, rate, periods):\n",
    "    '''Interest.\n",
    "    5 points.\n",
    "\n",
    "    This function calculates the final value of an investment after\n",
    "        gaining simple interest over a number of periods.\n",
    "\n",
    "    To calculate simple interest, simply multiply the principal to the quantity (rate * time). \n",
    "        Add this amount to the principal to get the final value.\n",
    "\n",
    "    Round down the final amount.\n",
    "\n",
    "    Parameters\n",
    "    ----------\n",
    "    principal: int\n",
    "        the principal (i.e., starting) amount invested, expressed in centavos\n",
    "    rate: float\n",
    "        the interest rate per period, expressed as a decimal representation of a percentage (e.g., 3% is 0.03)\n",
    "    periods: int\n",
    "        the number of periods invested\n",
    "\n",
    "    Returns\n",
    "    -------\n",
    "    int\n",
    "        the final value of the investment\n",
    "    '''\n",
    "    # Replace `pass` with your code.\n",
    "    # Stay within the function. Only use the parameters as input. The function should return your answer.\n",
    "\n",
    "    x = principal\n",
    "    y = rate\n",
    "    z = periods\n",
    "    \n",
    "    import math\n",
    "    return (math.floor(( x * ( z * y )) + x))"
   ]
  },
  {
   "cell_type": "code",
   "execution_count": 14,
   "id": "cae633cd-5cbb-425e-bec6-944010fd3bd6",
   "metadata": {},
   "outputs": [
    {
     "data": {
      "text/plain": [
       "11200"
      ]
     },
     "execution_count": 14,
     "metadata": {},
     "output_type": "execute_result"
    }
   ],
   "source": [
    "interest(10_000.10, .010, 12)"
   ]
  },
  {
   "cell_type": "code",
   "execution_count": 2,
   "id": "c9be1b98-e553-4792-8eb1-cafdd995462b",
   "metadata": {},
   "outputs": [],
   "source": [
    "def body_mass_index(weight, height):\n",
    "    '''Body Mass Index.\n",
    "    5 points.\n",
    "\n",
    "    This function calculates the body mass index (BMI) of a person\n",
    "        given their weight and height.\n",
    "\n",
    "    The formula for BMI is: kg / (m ^ 2)\n",
    "        (i.e., kilograms over meters squared)\n",
    "\n",
    "    Unfortunately, the users of this function use the imperial system.\n",
    "        You will need to first convert their arguments to the metric system.\n",
    "    \n",
    "    Parameters\n",
    "    ----------\n",
    "    weight: float\n",
    "        the weight of the person, in pounds\n",
    "    height: list\n",
    "        the height of the person, expressed as a list of two integers.\n",
    "        the first integer is the foot component of their height.\n",
    "        the second integer is the inches component of their height.\n",
    "        for example, 5'10\" would be passed as [5, 10].\n",
    "\n",
    "    Returns\n",
    "    -------\n",
    "    float\n",
    "        the BMI of the person.\n",
    "    '''\n",
    "    # Replace `pass` with your code. \n",
    "    # Stay within the function. Only use the parameters as input. The function should return your answer.\n",
    "    \n",
    "    x = weight\n",
    "    y = height [0]\n",
    "    z = height [1]\n",
    "    \n",
    "    return ((x/2.205)/(((y/3.281)+(z/39.37))**2))"
   ]
  },
  {
   "cell_type": "code",
   "execution_count": 3,
   "id": "62b352bf-1b3e-4628-93e1-79d263d32bd7",
   "metadata": {},
   "outputs": [
    {
     "data": {
      "text/plain": [
       "19.73792496666049"
      ]
     },
     "execution_count": 3,
     "metadata": {},
     "output_type": "execute_result"
    }
   ],
   "source": [
    "body_mass_index(115, [5,4])"
   ]
  },
  {
   "cell_type": "code",
   "execution_count": null,
   "id": "25d7045a-b32c-4f9f-b141-b274639234da",
   "metadata": {},
   "outputs": [],
   "source": []
  }
 ],
 "metadata": {
  "kernelspec": {
   "display_name": "Python 3 (ipykernel)",
   "language": "python",
   "name": "python3"
  },
  "language_info": {
   "codemirror_mode": {
    "name": "ipython",
    "version": 3
   },
   "file_extension": ".py",
   "mimetype": "text/x-python",
   "name": "python",
   "nbconvert_exporter": "python",
   "pygments_lexer": "ipython3",
   "version": "3.9.12"
  }
 },
 "nbformat": 4,
 "nbformat_minor": 5
}
